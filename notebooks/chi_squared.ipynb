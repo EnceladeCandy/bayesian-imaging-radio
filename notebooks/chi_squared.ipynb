{
 "cells": [
  {
   "cell_type": "code",
   "execution_count": 1,
   "metadata": {},
   "outputs": [],
   "source": [
    "import numpy as np\n",
    "import torch\n",
    "import matplotlib.pyplot as plt \n",
    "import h5py\n",
    "from glob import glob\n",
    "import json\n",
    "import sys\n",
    "from tqdm import tqdm\n",
    "sys.path.append(\"../models/\")\n",
    "from forward_model import model"
   ]
  },
  {
   "cell_type": "markdown",
   "metadata": {},
   "source": [
    "### Recall $\\chi^2$ distribution\n",
    "\n",
    "Let's say we have $\\nu$ normally distributed random variables. The $\\chi^2$ is defined as \n",
    "\n",
    "$$\n",
    "\\chi^2_0 = \\sum_{i=0}^k z_i^2\n",
    "$$\n",
    "where $z_i\\sim \\mathcal{N}(0, \\mathbb{1})$"
   ]
  },
  {
   "cell_type": "code",
   "execution_count": 2,
   "metadata": {},
   "outputs": [],
   "source": [
    "from score_models import ScoreModel"
   ]
  },
  {
   "cell_type": "code",
   "execution_count": 3,
   "metadata": {},
   "outputs": [
    {
     "name": "stdout",
     "output_type": "stream",
     "text": [
      "Using the Variance Preserving SDE\n"
     ]
    }
   ],
   "source": [
    "score_model = ScoreModel(checkpoints_directory = \"../../score_models/ncsnpp_vp_skirt_y_64_230813225149\")"
   ]
  },
  {
   "cell_type": "code",
   "execution_count": 4,
   "metadata": {},
   "outputs": [],
   "source": [
    "def open_h5(file):\n",
    "    return h5py.File(file, \"r\")\n",
    "\n",
    "def open_json(file):\n",
    "    with open(file, \"r\") as f:\n",
    "        return json.load(f)  "
   ]
  },
  {
   "cell_type": "code",
   "execution_count": 5,
   "metadata": {},
   "outputs": [],
   "source": [
    "data_dir = \"../../../data/tarp_data/pc/\"\n",
    "params_dir = data_dir + \"skirt64_postneurips_pc.json\" \n",
    "\n",
    "# Loading experiment params\n",
    "params = open_json(params_dir)\n",
    "num_sims = params[\"num_sims\"]\n",
    "num_samples = params[\"num_samples\"]\n",
    "model_pixels = params[\"model_pixels\"]\n",
    "dataset = params[\"dataset\"]\n",
    "sde = params[\"sde\"]\n",
    "experiment_name = params[\"experiment_name\"]\n",
    "pc_params = params[\"sampling_params\"] # (Predictor, Corrector, SNR)\n",
    "sigma_y = params[\"sigma_y\"]"
   ]
  },
  {
   "cell_type": "code",
   "execution_count": 6,
   "metadata": {},
   "outputs": [],
   "source": [
    "paths = glob(data_dir + experiment_name + \"*.h5\")\n",
    "hf = open_h5(paths[0])"
   ]
  },
  {
   "cell_type": "code",
   "execution_count": 8,
   "metadata": {},
   "outputs": [
    {
     "data": {
      "text/plain": [
       "(500, 7412)"
      ]
     },
     "execution_count": 8,
     "metadata": {},
     "output_type": "execute_result"
    }
   ],
   "source": [
    "hf[\"reconstruction\"]."
   ]
  },
  {
   "cell_type": "code",
   "execution_count": 10,
   "metadata": {},
   "outputs": [
    {
     "name": "stderr",
     "output_type": "stream",
     "text": [
      "0it [00:00, ?it/s]"
     ]
    },
    {
     "name": "stderr",
     "output_type": "stream",
     "text": [
      "500it [07:05,  1.18it/s]\n"
     ]
    }
   ],
   "source": [
    "# Loading posterior samples and computing chi^2 \n",
    "paths = glob(data_dir + experiment_name + \"*.h5\")\n",
    "chi_squared = np.empty(shape = (num_sims, num_samples))\n",
    "sampling_function = torch.tensor(np.load( \"../../../data/data_htlup/sampling_function3.npy\"))[:256**2].reshape(256, 256)\n",
    "\n",
    "\n",
    "y = hf[\"observation\"]\n",
    "y_hat = np.empty(shape = (num_samples, len(y)))\n",
    "samples = np.array(hf[\"model\"])\n",
    "chi_squared = np.empty(shape = (num_sims, num_samples))\n",
    "idx_to_del = []\n",
    "for i, path in tqdm(enumerate(paths)):\n",
    "    try: \n",
    "        hf = open_h5(paths[i])\n",
    "        y = hf[\"observation\"]\n",
    "        samples = torch.tensor(hf[\"model\"])\n",
    "        for j in range(num_samples):\n",
    "            hf[\"reconstruction\"][j] = model(torch.zeros(1), samples[j], score_model = score_model, model_parameters = (sampling_function, 1, 0, 96)).numpy()\n",
    "        \n",
    "        chi_squared[i] = np.sum((y - y_hat) ** 2 / sigma_y ** 2, axis = 1)\n",
    "    except OSError: \n",
    "        idx_to_del.append(i)\n"
   ]
  },
  {
   "cell_type": "code",
   "execution_count": 13,
   "metadata": {},
   "outputs": [],
   "source": [
    "chi_squared"
   ]
  },
  {
   "cell_type": "code",
   "execution_count": 14,
   "metadata": {},
   "outputs": [
    {
     "data": {
      "text/plain": [
       "(249997,)"
      ]
     },
     "execution_count": 14,
     "metadata": {},
     "output_type": "execute_result"
    }
   ],
   "source": [
    "chi_squared.shape"
   ]
  },
  {
   "cell_type": "code",
   "execution_count": 11,
   "metadata": {},
   "outputs": [],
   "source": [
    "chi_square = np.delete(chi_squared.flatten(), np.where(chi_squared.flatten()<4000)[0])"
   ]
  },
  {
   "cell_type": "code",
   "execution_count": 12,
   "metadata": {},
   "outputs": [],
   "source": [
    "from scipy.stats import chi2\n",
    "from scipy.optimize import minimize\n",
    "def chi2_pdf(x, k): \n",
    "    return chi2.pdf(x, k)\n",
    "\n",
    "def neg_log_likelihood(params, data): \n",
    "    return - np.sum(np.log(chi2_pdf(data, params[0])))"
   ]
  },
  {
   "cell_type": "code",
   "execution_count": 13,
   "metadata": {},
   "outputs": [],
   "source": [
    "result = minimize(neg_log_likelihood, x0 = 7412 , args=(chi_square,))\n",
    "optimal_k = result.x[0]"
   ]
  },
  {
   "cell_type": "code",
   "execution_count": 22,
   "metadata": {},
   "outputs": [],
   "source": [
    "x = np.linspace(chi_square.min()-500, chi_square.max()+500, 1000)\n",
    "f = chi2_pdf(x, optimal_k)"
   ]
  },
  {
   "cell_type": "code",
   "execution_count": 21,
   "metadata": {},
   "outputs": [
    {
     "data": {
      "text/plain": [
       "(500,)"
      ]
     },
     "execution_count": 21,
     "metadata": {},
     "output_type": "execute_result"
    }
   ],
   "source": [
    "f.shape"
   ]
  },
  {
   "cell_type": "code",
   "execution_count": 35,
   "metadata": {},
   "outputs": [
    {
     "data": {
      "text/plain": [
       "(6497.193824739817, 10651.306468553581)"
      ]
     },
     "execution_count": 35,
     "metadata": {},
     "output_type": "execute_result"
    },
    {
     "data": {
      "image/png": "[encoded data removed]",
      "text/plain": [
       "<Figure size 640x480 with 1 Axes>"
      ]
     },
     "metadata": {},
     "output_type": "display_data"
    }
   ],
   "source": [
    "plt.hist(chi_square, bins = 100, alpha = 0.8, density = True, label = r\"$\\chi^2_0$s\")\n",
    "plt.axvline(len(y), label = \"Number of data points\", color = \"orange\", linestyle = \"dashed\")\n",
    "plt.xscale(\"log\")\n",
    "plt.plot(x, f, color = \"green\", label = rf\"$\\chi_\\nu^2$ fit, $\\nu={optimal_k:.2g}$\")\n",
    "plt.legend()\n",
    "plt.xlim([chi_square.min()-500, chi_square.max()+500])"
   ]
  },
  {
   "cell_type": "code",
   "execution_count": 49,
   "metadata": {},
   "outputs": [
    {
     "data": {
      "text/plain": [
       "array([[16, 32],\n",
       "       [18, 24],\n",
       "       [16, 16],\n",
       "       [14, 28],\n",
       "       [12, 20],\n",
       "       [12, 24]])"
      ]
     },
     "execution_count": 49,
     "metadata": {},
     "output_type": "execute_result"
    }
   ],
   "source": [
    "obs = np.array([[16, 18, 16, 14, 12, 12], [32, 24, 16, 28, 20, 24]]).T\n",
    "obs"
   ]
  },
  {
   "cell_type": "code",
   "execution_count": 9,
   "metadata": {},
   "outputs": [
    {
     "data": {
      "text/plain": [
       "array([ 0.42969602, -0.42732123,  0.4203627 , ..., -0.01191171,\n",
       "        0.0092379 , -0.0066658 ], dtype=float32)"
      ]
     },
     "execution_count": 9,
     "metadata": {},
     "output_type": "execute_result"
    }
   ],
   "source": [
    "y_hat.numpy()"
   ]
  },
  {
   "cell_type": "code",
   "execution_count": 20,
   "metadata": {},
   "outputs": [
    {
     "data": {
      "text/plain": [
       "numpy.ndarray"
      ]
     },
     "execution_count": 20,
     "metadata": {},
     "output_type": "execute_result"
    }
   ],
   "source": [
    "type(samples[i])"
   ]
  },
  {
   "cell_type": "code",
   "execution_count": 5,
   "metadata": {},
   "outputs": [],
   "source": [
    "# Loading posterior samples and computing chi^2\n",
    "chi_squared = np.empty(shape = (num_sims, num_samples))\n",
    "\n",
    "for i in range(num_sims): "
   ]
  },
  {
   "cell_type": "code",
   "execution_count": 6,
   "metadata": {},
   "outputs": [],
   "source": []
  },
  {
   "cell_type": "code",
   "execution_count": 7,
   "metadata": {},
   "outputs": [
    {
     "data": {
      "text/plain": [
       "dict_keys(['num_samples', 'num_sims', 'model_pixels', 'dataset', 'sde', 'experiment_name', 'sampling_params'])"
      ]
     },
     "execution_count": 7,
     "metadata": {},
     "output_type": "execute_result"
    }
   ],
   "source": [
    "params.keys()"
   ]
  },
  {
   "cell_type": "code",
   "execution_count": 8,
   "metadata": {},
   "outputs": [],
   "source": []
  },
  {
   "cell_type": "code",
   "execution_count": 9,
   "metadata": {},
   "outputs": [],
   "source": [
    "h5 = open_h5(paths[0])"
   ]
  },
  {
   "cell_type": "code",
   "execution_count": 10,
   "metadata": {},
   "outputs": [],
   "source": [
    "chi_squared = np.empty(shape = (num_sims, num_samples))"
   ]
  },
  {
   "cell_type": "code",
   "execution_count": 59,
   "metadata": {},
   "outputs": [],
   "source": [
    "import torch\n",
    "x = torch.randn(size = (10, 1, 64, 64))"
   ]
  },
  {
   "cell_type": "code",
   "execution_count": 67,
   "metadata": {},
   "outputs": [],
   "source": [
    "def noise_padding(x, pad, sigma):\n",
    "    \"\"\"Padding with realizations of noise of the same temperature of the current diffusion step\n",
    "\n",
    "    Args:\n",
    "        x (torch.Tensor): ground-truth \n",
    "        pad (int): amount of pixels needed to pad x\n",
    "        sigma (torch.Tensor): std of the gaussian distribution for the noise pad around the model\n",
    "\n",
    "    Returns:\n",
    "        out (torch.Tensor): noise padded version of the input\n",
    "    \"\"\"\n",
    "\n",
    "    # To manage batched input\n",
    "    if len(x.shape)<4:\n",
    "        _, H, W = x.shape\n",
    "    else: \n",
    "        _, _, H, W = x.shape\n",
    "    out = torch.nn.functional.pad(x, (pad, pad, pad, pad)) \n",
    "    # Create a mask for padding region\n",
    "    mask = torch.ones_like(out)\n",
    "    mask[pad:pad + H, pad:pad+W] = 0.\n",
    "    \n",
    "    # Noise pad around the model\n",
    "    z = torch.randn_like(out) * sigma\n",
    "    out = out + z * mask\n",
    "    return out"
   ]
  },
  {
   "cell_type": "code",
   "execution_count": 68,
   "metadata": {},
   "outputs": [
    {
     "data": {
      "text/plain": [
       "torch.Size([10, 1, 256, 256])"
      ]
     },
     "execution_count": 68,
     "metadata": {},
     "output_type": "execute_result"
    }
   ],
   "source": [
    "noise_padding(x, pad = 96, sigma = sigma_y).shape"
   ]
  },
  {
   "cell_type": "code",
   "execution_count": 5,
   "metadata": {},
   "outputs": [
    {
     "data": {
      "text/plain": [
       "<KeysViewHDF5 ['ground_truth', 'model', 'observation', 'reconstruction']>"
      ]
     },
     "execution_count": 5,
     "metadata": {},
     "output_type": "execute_result"
    }
   ],
   "source": [
    "h5.keys()"
   ]
  },
  {
   "cell_type": "code",
   "execution_count": 22,
   "metadata": {},
   "outputs": [],
   "source": [
    "sigma_y = 1e-2"
   ]
  },
  {
   "cell_type": "code",
   "execution_count": null,
   "metadata": {},
   "outputs": [],
   "source": [
    "chi_squared = np.empty(shape = (500, ))"
   ]
  },
  {
   "cell_type": "code",
   "execution_count": 15,
   "metadata": {},
   "outputs": [],
   "source": [
    "y_hat = np.array(h5[\"reconstruction\"])"
   ]
  },
  {
   "cell_type": "code",
   "execution_count": 39,
   "metadata": {},
   "outputs": [],
   "source": [
    "y = np.array(h5[\"observation\"])"
   ]
  },
  {
   "cell_type": "code",
   "execution_count": 57,
   "metadata": {},
   "outputs": [
    {
     "data": {
      "text/plain": [
       "array([ 0.4319004 , -0.42957777,  0.4227407 , ..., -0.01244728,\n",
       "        0.00954933, -0.00679338], dtype=float32)"
      ]
     },
     "execution_count": 57,
     "metadata": {},
     "output_type": "execute_result"
    }
   ],
   "source": [
    "y_hat[0]"
   ]
  },
  {
   "cell_type": "code",
   "execution_count": 20,
   "metadata": {},
   "outputs": [
    {
     "data": {
      "text/plain": [
       "(7412,)"
      ]
     },
     "execution_count": 20,
     "metadata": {},
     "output_type": "execute_result"
    }
   ],
   "source": [
    "fig, axs = plt.subplots(5, 5, figsize = (4*5, 4*5))\n",
    "\n",
    "for i in range(5):\n",
    "    for j in range(5):\n",
    "        axs[i,j].imshow()"
   ]
  },
  {
   "cell_type": "code",
   "execution_count": 55,
   "metadata": {},
   "outputs": [],
   "source": [
    "chi_squared = (((y_hat-y)** 2).sum(axis=1)/ sigma_y ** 2)"
   ]
  },
  {
   "cell_type": "code",
   "execution_count": 56,
   "metadata": {},
   "outputs": [
    {
     "data": {
      "text/plain": [
       "(500,)"
      ]
     },
     "execution_count": 56,
     "metadata": {},
     "output_type": "execute_result"
    }
   ],
   "source": [
    "chi_squared.shape"
   ]
  },
  {
   "cell_type": "code",
   "execution_count": 52,
   "metadata": {},
   "outputs": [
    {
     "data": {
      "text/plain": [
       "(2, 3)"
      ]
     },
     "execution_count": 52,
     "metadata": {},
     "output_type": "execute_result"
    }
   ],
   "source": [
    "x = np.array([[2,1, 1],[2,2, 1]] )\n",
    "x.shape"
   ]
  },
  {
   "cell_type": "code",
   "execution_count": 54,
   "metadata": {},
   "outputs": [
    {
     "data": {
      "text/plain": [
       "(2,)"
      ]
     },
     "execution_count": 54,
     "metadata": {},
     "output_type": "execute_result"
    }
   ],
   "source": [
    "(x.sum(axis = 1)).shape"
   ]
  },
  {
   "cell_type": "code",
   "execution_count": 28,
   "metadata": {},
   "outputs": [
    {
     "data": {
      "text/plain": [
       "7396.734"
      ]
     },
     "execution_count": 28,
     "metadata": {},
     "output_type": "execute_result"
    }
   ],
   "source": [
    "chi_squared[0]"
   ]
  },
  {
   "cell_type": "code",
   "execution_count": 30,
   "metadata": {},
   "outputs": [
    {
     "data": {
      "text/plain": [
       "7396.734"
      ]
     },
     "execution_count": 30,
     "metadata": {},
     "output_type": "execute_result"
    }
   ],
   "source": [
    "chi_squared[1]"
   ]
  }
 ],
 "metadata": {
  "kernelspec": {
   "display_name": "base",
   "language": "python",
   "name": "python3"
  },
  "language_info": {
   "codemirror_mode": {
    "name": "ipython",
    "version": 3
   },
   "file_extension": ".py",
   "mimetype": "text/x-python",
   "name": "python",
   "nbconvert_exporter": "python",
   "pygments_lexer": "ipython3",
   "version": "3.9.17"
  }
 },
 "nbformat": 4,
 "nbformat_minor": 2
}
