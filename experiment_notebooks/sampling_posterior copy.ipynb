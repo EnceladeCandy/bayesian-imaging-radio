{
 "cells": [
  {
   "cell_type": "code",
   "execution_count": 1,
   "metadata": {},
   "outputs": [],
   "source": [
    "import torch \n",
    "import numpy as np\n",
    "import sys\n",
    "import matplotlib.pyplot as plt \n",
    "from torch.func import vmap, grad\n",
    "from tqdm import tqdm\n",
    "from torch.distributions import MultivariateNormal\n",
    "sys.path.append(\"..\\\\\")\n",
    "plt.style.use(\"dark_background\")\n",
    "device = \"cuda\" if torch.cuda.is_available() else \"cpu\"\n",
    "from score_models import ScoreModel, NCSNpp\n",
    "import json\n",
    "file = open(\"../../score_models/ncsnpp_probes_g_64_230604024652/model_hparams.json\")\n",
    "model_hparams = json.load(file)\n",
    "sigma_min, sigma_max = model_hparams[\"sigma_min\"], model_hparams[\"sigma_max\"]"
   ]
  },
  {
   "cell_type": "code",
   "execution_count": 2,
   "metadata": {},
   "outputs": [],
   "source": [
    "def preprocess_probes_g_channel(img, inv_link = False):  # channel 0\n",
    "    img = torch.clamp(img, 0, 1.48)\n",
    "    \n",
    "    if inv_link:\n",
    "        img = 2 * img / 1.48 - 1.\n",
    "    return img\n",
    "\n",
    "def link_function(x):\n",
    "    # Mapping from (-1, 1) to (0, 1)\n",
    "    return (x + 1)/2\n",
    "\n",
    "def inv_link(x): \n",
    "    return 2 * x - 1\n",
    "\n"
   ]
  },
  {
   "cell_type": "code",
   "execution_count": 8,
   "metadata": {},
   "outputs": [
    {
     "name": "stdout",
     "output_type": "stream",
     "text": [
      "Using the Variance Exploding SDE\n"
     ]
    }
   ],
   "source": [
    "score_model = ScoreModel(checkpoints_directory=\"../../score_models/ncsnpp_probes_g_64_230604024652\")\n",
    "\n",
    "x = torch.load(\"model_prior_sample.pt\").to(device)"
   ]
  },
  {
   "cell_type": "markdown",
   "metadata": {},
   "source": [
    "### Implementing for the DFT matrix"
   ]
  },
  {
   "cell_type": "code",
   "execution_count": 9,
   "metadata": {},
   "outputs": [],
   "source": [
    "def ft(x): \n",
    "    return torch.fft.fft2(x, norm = \"ortho\")\n",
    "\n",
    "def ift(x): \n",
    "    return torch.fft.ifft2(x, norm = \"ortho\")"
   ]
  },
  {
   "cell_type": "code",
   "execution_count": 7,
   "metadata": {},
   "outputs": [
    {
     "data": {
      "text/plain": [
       "torch.Size([2, 4096])"
      ]
     },
     "execution_count": 7,
     "metadata": {},
     "output_type": "execute_result"
    }
   ],
   "source": []
  },
  {
   "cell_type": "code",
   "execution_count": 16,
   "metadata": {},
   "outputs": [
    {
     "ename": "OutOfMemoryError",
     "evalue": "CUDA out of memory. Tried to allocate 4194304.00 GiB (GPU 0; 4.00 GiB total capacity; 823.93 MiB already allocated; 1.13 GiB free; 998.00 MiB reserved in total by PyTorch) If reserved memory is >> allocated memory try setting max_split_size_mb to avoid fragmentation.  See documentation for Memory Management and PYTORCH_CUDA_ALLOC_CONF",
     "output_type": "error",
     "traceback": [
      "\u001b[1;31m---------------------------------------------------------------------------\u001b[0m",
      "\u001b[1;31mOutOfMemoryError\u001b[0m                          Traceback (most recent call last)",
      "Cell \u001b[1;32mIn[16], line 3\u001b[0m\n\u001b[0;32m      1\u001b[0m img_size \u001b[38;5;241m=\u001b[39m x\u001b[38;5;241m.\u001b[39mshape[\u001b[38;5;241m-\u001b[39m\u001b[38;5;241m1\u001b[39m]\n\u001b[0;32m      2\u001b[0m sigma_likelihood \u001b[38;5;241m=\u001b[39m \u001b[38;5;241m1e-5\u001b[39m\n\u001b[1;32m----> 3\u001b[0m dist_likelihood \u001b[38;5;241m=\u001b[39m MultivariateNormal(loc \u001b[38;5;241m=\u001b[39m torch\u001b[38;5;241m.\u001b[39mzeros(\u001b[38;5;241m2\u001b[39m \u001b[38;5;241m*\u001b[39m img_size\u001b[38;5;241m*\u001b[39m\u001b[38;5;241m*\u001b[39m\u001b[38;5;241m2\u001b[39m, device \u001b[38;5;241m=\u001b[39m x\u001b[38;5;241m.\u001b[39mdevice), covariance_matrix\u001b[38;5;241m=\u001b[39msigma_likelihood \u001b[38;5;241m*\u001b[39m\u001b[38;5;241m*\u001b[39m \u001b[38;5;241m2\u001b[39m \u001b[38;5;241m*\u001b[39m\u001b[43mtorch\u001b[49m\u001b[38;5;241;43m.\u001b[39;49m\u001b[43meye\u001b[49m\u001b[43m(\u001b[49m\u001b[38;5;241;43m2\u001b[39;49m\u001b[43m \u001b[49m\u001b[38;5;241;43m*\u001b[39;49m\u001b[43m \u001b[49m\u001b[43mimg_size\u001b[49m\u001b[38;5;241;43m*\u001b[39;49m\u001b[38;5;241;43m*\u001b[39;49m\u001b[38;5;241;43m2\u001b[39;49m\u001b[43m,\u001b[49m\u001b[43m \u001b[49m\u001b[43mdevice\u001b[49m\u001b[43m \u001b[49m\u001b[38;5;241;43m=\u001b[39;49m\u001b[43m \u001b[49m\u001b[43mx\u001b[49m\u001b[38;5;241;43m.\u001b[39;49m\u001b[43mdevice\u001b[49m\u001b[43m)\u001b[49m)\n\u001b[0;32m      4\u001b[0m eta \u001b[38;5;241m=\u001b[39m dist_likelihood\u001b[38;5;241m.\u001b[39msample([])\n\u001b[0;32m      6\u001b[0m ft_x \u001b[38;5;241m=\u001b[39m ft(x)\u001b[38;5;241m.\u001b[39mflatten()\n",
      "\u001b[1;31mOutOfMemoryError\u001b[0m: CUDA out of memory. Tried to allocate 4194304.00 GiB (GPU 0; 4.00 GiB total capacity; 823.93 MiB already allocated; 1.13 GiB free; 998.00 MiB reserved in total by PyTorch) If reserved memory is >> allocated memory try setting max_split_size_mb to avoid fragmentation.  See documentation for Memory Management and PYTORCH_CUDA_ALLOC_CONF"
     ]
    }
   ],
   "source": [
    "img_size = x.shape[-1]\n",
    "sigma_likelihood = 1e-5\n",
    "dist_likelihood = MultivariateNormal(loc = torch.zeros(2 * img_size**2, device = x.device), covariance_matrix=sigma_likelihood ** 2 *torch.eye(2 * img_size**2, device = x.device))\n",
    "eta = dist_likelihood.sample([])\n",
    "\n",
    "ft_x = ft(x).flatten()\n",
    "ft_x = torch.cat([ft_x.real, ft_x.imag])\n",
    "y = ft_x + eta\n",
    "#x_flat = link_function(x.flatten())\n",
    "#y = x_flat + 0.1 * torch.randn_like(x_flat)\n",
    "y = preprocess_probes_g_channel(y, inv_link = False)\n",
    "y_dim = len(y)\n",
    "\n",
    "print(y.shape)\n",
    "# Checking if I do something wrong\n",
    "fig, axs = plt.subplots(1, 3, figsize = (8, 4))\n",
    "for i in range(len(axs)): \n",
    "    axs[i].axis(\"off\")\n",
    "\n",
    "axs[0].imshow(x.reshape(-1, img_size).cpu(), cmap = \"hot\")\n",
    "axs[1].imshow(y.reshape(-1, img_size).cpu(), cmap = \"hot\")\n",
    "\n",
    "y_rep = y[:img_size**2] + 1j * y[img_size**2:]\n",
    "im = axs[2].imshow(ift(y_rep.reshape(img_size, img_size)).real.cpu(), cmap = \"hot\")\n",
    "plt.colorbar(im)\n",
    "# fig, axs = plt.subplots(nrows = 1, ncols = 2, figsize = (8, 4))\n",
    "\n",
    "# for i in range(len(axs)): \n",
    "#     axs[i].axis(\"off\")\n",
    "\n",
    "# axs[0].imshow(y.reshape(64,64).squeeze().cpu(), cmap = \"magma\")\n",
    "# axs[0].set_title(r\"Observation $\\mathbf{y}$\")\n",
    "\n",
    "# im = axs[1].imshow(x.squeeze().cpu(), cmap = \"magma\")\n",
    "# axs[1].set_title(r\"Ground-truth $\\mathbf{x}$\")\n",
    "# plt.colorbar(im)\n"
   ]
  },
  {
   "cell_type": "code",
   "execution_count": 11,
   "metadata": {},
   "outputs": [
    {
     "data": {
      "text/plain": [
       "torch.Size([1, 1, 64, 64])"
      ]
     },
     "execution_count": 11,
     "metadata": {},
     "output_type": "execute_result"
    }
   ],
   "source": [
    "x.shape"
   ]
  },
  {
   "cell_type": "code",
   "execution_count": 13,
   "metadata": {},
   "outputs": [
    {
     "name": "stdout",
     "output_type": "stream",
     "text": [
      "tensor(0.0002, device='cuda:0')\n",
      "tensor([[-1.8922e-03,  5.3076e-04, -7.2963e-04,  ...,  2.6589e-04,\n",
      "         -2.4864e-03, -1.3411e-03],\n",
      "        [ 1.1824e-03,  9.5197e-04,  6.9952e-04,  ..., -3.1843e-03,\n",
      "          3.0137e-03,  9.6435e-05]], device='cuda:0', grad_fn=<AddBackward0>)\n"
     ]
    }
   ],
   "source": [
    "def sigma(t): \n",
    "    return sigma_min * (sigma_max/sigma_min) ** t\n",
    "\n",
    "\n",
    "def model(x):\n",
    "    x = link_function(x)\n",
    "    x = ft(x.reshape(img_size, img_size)).flatten()\n",
    "    x = torch.cat([x.real, x.imag])\n",
    "    return x\n",
    "\n",
    "def logprob_likelihood(x, sigma): \n",
    "      D = x.shape[-1]\n",
    "      val = -torch.sum(x**2, axis = -1)/(2*sigma**2) - D/2 * np.log((2*torch.pi))- D * torch.log(sigma)\n",
    "      return val.squeeze(0) # needs to be without diemensions   \n",
    "\n",
    "def score_likelihood(x, t): \n",
    "    return vmap(grad(lambda x, t: logprob_likelihood(y -model(x), (sigma_likelihood ** 2 + sigma(t)** 2)**0.5)))(x, t)\n",
    "\n",
    "\n",
    "#torch.manual_seed(0)\n",
    "def score_posterior(x, t): \n",
    "    return score_model.score(t, x.reshape(-1, 1, img_size, img_size)).flatten(start_dim = 1) + score_likelihood(x, t)\n",
    "\n",
    "x = torch.randn([2, img_size ** 2]).to(device) \n",
    "t = torch.ones([2]).to(device)\n",
    "\n",
    "print((torch.sum(score_likelihood(x, t)**2))**0.5)\n",
    "print(score_posterior(x, t))\n",
    "#score_model.score(t, x.reshape(-1, 1, img_size, img_size)).shape "
   ]
  },
  {
   "cell_type": "code",
   "execution_count": 14,
   "metadata": {},
   "outputs": [
    {
     "name": "stderr",
     "output_type": "stream",
     "text": [
      "100%|██████████| 499/499 [00:23<00:00, 20.92it/s]\n"
     ]
    }
   ],
   "source": [
    "\n",
    "def g(t): \n",
    "    return sigma(t) * np.sqrt(2 * (np.log(sigma_max) - np.log(sigma_min)))\n",
    "\n",
    "\n",
    "def pc_sampler(num_samples, num_pred_steps, num_corr_steps, score_function, snr = 1e-2, img_size = 28): \n",
    "    t = torch.ones(size = (num_samples, 1)).to(device)\n",
    "    x = torch.randn([num_samples, img_size ** 2]).to(device)\n",
    "    dt = -1/num_pred_steps\n",
    "    with torch.no_grad(): \n",
    "        for _ in tqdm(range(num_pred_steps-1)): \n",
    "            # Corrector step: (Only if we are not at 0 temperature )\n",
    "            gradient = score_function(x, t)\n",
    "            for _ in range(num_corr_steps): \n",
    "                z = torch.randn_like(x)\n",
    "                grad_norm = torch.mean(torch.norm(gradient, dim = -1)) # mean of the norm of the score over the batch \n",
    "                noise_norm = torch.mean(torch.norm(z, dim = -1))\n",
    "                epsilon =  2 * (snr * noise_norm / grad_norm) ** 2\n",
    "                x = x + epsilon * gradient + (2 * epsilon) ** 0.5 * z * dt  \n",
    "\n",
    "        \n",
    "            # Predictor step: \n",
    "            z = torch.randn_like(x).to(device)\n",
    "            gradient = score_function(x, t)\n",
    "            drift = 0\n",
    "            diffusion = g(t)\n",
    "            x_mean = x - diffusion**2 * gradient * dt  \n",
    "            noise = diffusion * (-dt) ** 0.5 * z\n",
    "            x = x_mean + noise\n",
    "            t += dt\n",
    "    return x_mean\n",
    "\n",
    "def euler_sampler(num_samples, num_steps, score_function, img_size = 28): \n",
    "    t = torch.ones(size = (num_samples, 1)).to(device)\n",
    "    x = sigma_max * torch.randn([num_samples, img_size ** 2]).to(device)\n",
    "    dt = -1/num_steps\n",
    "    with torch.no_grad(): \n",
    "        for _ in tqdm(range(num_steps - 1)): \n",
    "            z = torch.randn_like(x).to(device)\n",
    "            gradient = score_function(x, t)\n",
    "            drift = 0\n",
    "            diffusion = g(t)\n",
    "            x_mean = x - diffusion**2 * gradient * dt  \n",
    "            noise = diffusion * (-dt) ** 0.5 * z\n",
    "            x = x_mean + noise\n",
    "            t += dt\n",
    "    # DONT FORGET TO APPLY THE LINK FUNCTION\n",
    "    return link_function(x_mean)\n",
    "\n",
    "\n",
    "#samples = pc_sampler(num_samples = 1, num_pred_steps = 500, num_corr_steps = 20, snr = 1e-4, score_function = score_posterior, img_size = img_size)\n",
    "samples = euler_sampler(num_samples = 1, num_steps = 500, score_function = score_posterior, img_size = img_size)\n"
   ]
  },
  {
   "cell_type": "code",
   "execution_count": 11,
   "metadata": {},
   "outputs": [
    {
     "data": {
      "text/plain": [
       "tensor(1.0340, device='cuda:0')"
      ]
     },
     "execution_count": 11,
     "metadata": {},
     "output_type": "execute_result"
    }
   ],
   "source": [
    "samples.max()"
   ]
  },
  {
   "cell_type": "code",
   "execution_count": 15,
   "metadata": {},
   "outputs": [
    {
     "data": {
      "image/png": "[encoded data removed]",
      "text/plain": [
       "<Figure size 640x480 with 2 Axes>"
      ]
     },
     "metadata": {},
     "output_type": "display_data"
    }
   ],
   "source": [
    "n_images = len(samples)\n",
    "\n",
    "if n_images != 1:\n",
    "    fig, axs = plt.subplots(1, n_images, figsize = (8, 4))\n",
    "\n",
    "    for i in range(n_images): \n",
    "        axs[i].imshow(x[i].cpu().reshape(img_size, img_size), cmap = \"hot\")\n",
    "        axs[i].axis(\"off\")\n",
    "else: \n",
    "    plt.imshow(samples.cpu().reshape(img_size, img_size), cmap = \"hot\")\n",
    "    plt.axis(\"off\")\n",
    "    plt.colorbar(fraction = 0.046)"
   ]
  },
  {
   "cell_type": "code",
   "execution_count": 89,
   "metadata": {},
   "outputs": [
    {
     "data": {
      "text/plain": [
       "tensor(-0.2728, device='cuda:0')"
      ]
     },
     "execution_count": 89,
     "metadata": {},
     "output_type": "execute_result"
    }
   ],
   "source": [
    "euler_samples.max()"
   ]
  }
 ],
 "metadata": {
  "kernelspec": {
   "display_name": "base",
   "language": "python",
   "name": "python3"
  },
  "language_info": {
   "codemirror_mode": {
    "name": "ipython",
    "version": 3
   },
   "file_extension": ".py",
   "mimetype": "text/x-python",
   "name": "python",
   "nbconvert_exporter": "python",
   "pygments_lexer": "ipython3",
   "version": "3.9.17"
  },
  "orig_nbformat": 4
 },
 "nbformat": 4,
 "nbformat_minor": 2
}
